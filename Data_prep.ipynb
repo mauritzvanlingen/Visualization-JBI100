{
 "cells": [
  {
   "cell_type": "markdown",
   "metadata": {},
   "source": [
    "- FIFA World Cup 2022 Player Data (https://www.kaggle.com/datasets/swaptr/fifa-world-cup-2022-player-data)"
   ]
  },
  {
   "cell_type": "code",
   "execution_count": null,
   "metadata": {},
   "outputs": [],
   "source": [
    "# Import libraries\n",
    "import pandas as pd\n",
    "import plotly.express as px\n",
    "import matplotlib.pyplot as plt\n",
    "import numpy as np\n",
    "from PIL import Image\n",
    "import os\n",
    "from sklearn.cluster import KMeans\n",
    "# Do not truncate tables\n",
    "pd.set_option('display.max_columns', None)"
   ]
  },
  {
   "cell_type": "code",
   "execution_count": null,
   "metadata": {},
   "outputs": [],
   "source": [
    "df_player_possession    = pd.read_csv('../Data/FIFA World Cup 2022 Player Data/player_possession.csv', delimiter=',')"
   ]
  },
  {
   "cell_type": "code",
   "execution_count": null,
   "metadata": {},
   "outputs": [],
   "source": [
    "team_counts = df_player_possession['team'].value_counts()"
   ]
  },
  {
   "cell_type": "code",
   "execution_count": null,
   "metadata": {},
   "outputs": [],
   "source": [
    "team_counts.plot(kind='bar')"
   ]
  },
  {
   "cell_type": "code",
   "execution_count": null,
   "metadata": {},
   "outputs": [],
   "source": [
    "filtered_df = df_player_possession[df_player_possession['position'] != 'GK']\n"
   ]
  },
  {
   "cell_type": "code",
   "execution_count": null,
   "metadata": {},
   "outputs": [],
   "source": [
    "# Filter the DataFrame for 'Argentina'\n",
    "argentina_data = df_player_possession[df_player_possession['team'] == 'Argentina']\n",
    "\n",
    "# Group the Argentina data by 'position'\n",
    "argentina_grouped = argentina_data.groupby('position')\n",
    "\n",
    "# Similarly, filter the DataFrame for 'France'\n",
    "france_data = df_player_possession[df_player_possession['team'] == 'France']\n",
    "\n",
    "# Group the France data by 'position'\n",
    "france_grouped = france_data.groupby('position')\n"
   ]
  },
  {
   "cell_type": "code",
   "execution_count": null,
   "metadata": {},
   "outputs": [],
   "source": [
    "other = filtered_df[~filtered_df['team'].isin(['France','Argentina'])]"
   ]
  },
  {
   "cell_type": "code",
   "execution_count": null,
   "metadata": {},
   "outputs": [],
   "source": [
    "# Filter the data for France and Argentina\n",
    "france_data = df_player_possession[df_player_possession['team'] == 'France']\n",
    "argentina_data = df_player_possession[df_player_possession['team'] == 'Argentina']\n",
    "\n",
    "# Make sure both France and Argentina data have the same positions\n",
    "common_positions = set(france_data['position']).intersection(set(argentina_data['position']))\n",
    "\n",
    "# Filter the data for common positions only\n",
    "france_data = france_data[france_data['position'].isin(common_positions)]\n",
    "argentina_data = argentina_data[argentina_data['position'].isin(common_positions)]\n",
    "\n",
    "# Now plot the data for France and Argentina separately\n",
    "fig, ax = plt.subplots(figsize=(10, 8))\n",
    "\n",
    "# Positions for the bars on the x-axis\n",
    "barWidth = 0.35\n",
    "r1 = range(len(france_data))\n",
    "r2 = [x + barWidth for x in r1]\n",
    "\n",
    "# Make the plot for France and Argentina\n",
    "ax.bar(r1, france_data['touches_def_pen_area'], color='b', width=barWidth, edgecolor='grey', label='Touches in defensive penalty area (France)')\n",
    "ax.bar(r2, argentina_data['touches_def_pen_area'], color='r', width=barWidth, edgecolor='grey', label='Touches in defensive penalty area (Argentina)')\n",
    "\n",
    "# Add xticks on the middle of the group bars\n",
    "ax.set_xlabel('Position', fontweight='bold')\n",
    "ax.set_xticks([r + barWidth / 2 for r in range(len(france_data))])\n",
    "ax.set_xticklabels(france_data['position'])\n",
    "ax.set_ylabel('Number of Touches')\n",
    "\n",
    "# Create legend & Show graphic\n",
    "ax.legend()\n",
    "plt.title('Comparison of Touches in Defensive Penalty Area between France and Argentina')\n",
    "plt.show()\n"
   ]
  },
  {
   "cell_type": "code",
   "execution_count": null,
   "metadata": {},
   "outputs": [],
   "source": [
    "\n",
    "filtered_data = filtered_df[filtered_df['team'].isin(['France', 'Argentina'])]\n",
    "\n",
    "grouped_data = filtered_data.groupby(['team', 'position']).agg({\n",
    "    'touches_def_pen_area': 'sum',\n",
    "    'touches_def_3rd': 'sum',\n",
    "    'touches_mid_3rd': 'sum',\n",
    "    'touches_att_3rd': 'sum',\n",
    "    'touches_att_pen_area': 'sum',\n",
    "}).reset_index()\n",
    "\n",
    "attacking_third_touches = grouped_data.pivot(index='position', columns='team', values='touches_att_3rd')\n",
    "attacking_third_touches.plot(kind='bar')\n",
    "plt.title('Touches in Attacking Third by Position')\n",
    "plt.xlabel('Position')\n",
    "plt.ylabel('Touches')\n",
    "plt.show()\n"
   ]
  },
  {
   "cell_type": "code",
   "execution_count": null,
   "metadata": {},
   "outputs": [],
   "source": [
    "teams = set(filtered_df['team'])\n",
    "team = list(teams)"
   ]
  },
  {
   "cell_type": "code",
   "execution_count": null,
   "metadata": {},
   "outputs": [],
   "source": [
    "print(team)"
   ]
  },
  {
   "cell_type": "code",
   "execution_count": null,
   "metadata": {},
   "outputs": [],
   "source": [
    "team.sort()"
   ]
  },
  {
   "cell_type": "markdown",
   "metadata": {},
   "source": [
    "team.sort()"
   ]
  }
 ],
 "metadata": {
  "kernelspec": {
   "display_name": ".venv",
   "language": "python",
   "name": "python3"
  },
  "language_info": {
   "codemirror_mode": {
    "name": "ipython",
    "version": 3
   },
   "file_extension": ".py",
   "mimetype": "text/x-python",
   "name": "python",
   "nbconvert_exporter": "python",
   "pygments_lexer": "ipython3",
   "version": "3.11.4"
  }
 },
 "nbformat": 4,
 "nbformat_minor": 2
}
